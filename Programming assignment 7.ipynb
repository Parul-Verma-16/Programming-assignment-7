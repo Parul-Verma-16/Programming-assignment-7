{
 "cells": [
  {
   "cell_type": "markdown",
   "id": "7ad0d115",
   "metadata": {},
   "source": [
    "## 1) Write a Python Program to find sum of array?"
   ]
  },
  {
   "cell_type": "code",
   "execution_count": 1,
   "id": "141e304b",
   "metadata": {},
   "outputs": [
    {
     "name": "stdout",
     "output_type": "stream",
     "text": [
      "Enter the array elements (space-separated): 3 6 45 87 9 34 \n",
      "The sum of the array elements is: 184\n"
     ]
    }
   ],
   "source": [
    "def array_sum(arr):\n",
    "    sum = 0\n",
    "    for num in arr:\n",
    "        sum += num\n",
    "    return sum\n",
    "\n",
    "# Input array elements\n",
    "arr = [int(x) for x in input(\"Enter the array elements (space-separated): \").split()]\n",
    "\n",
    "# Calculate the sum\n",
    "result = array_sum(arr)\n",
    "\n",
    "# Display the result\n",
    "print(\"The sum of the array elements is:\", result)"
   ]
  },
  {
   "cell_type": "markdown",
   "id": "5959bfc3",
   "metadata": {},
   "source": [
    "## 2) Write a Python Program to find largest element in an array?"
   ]
  },
  {
   "cell_type": "code",
   "execution_count": 2,
   "id": "285f5570",
   "metadata": {},
   "outputs": [
    {
     "name": "stdout",
     "output_type": "stream",
     "text": [
      "Enter the array elements (space-separated): 23 89 4 56 99 105\n",
      "The largest element in the array is: 105\n"
     ]
    }
   ],
   "source": [
    "def find_largest(arr):\n",
    "    if len(arr) == 0:\n",
    "        return None\n",
    "    largest = arr[0]\n",
    "    for num in arr:\n",
    "        if num > largest:\n",
    "            largest = num\n",
    "    return largest\n",
    "\n",
    "# Input array elements\n",
    "arr = [int(x) for x in input(\"Enter the array elements (space-separated): \").split()]\n",
    "\n",
    "# Find the largest element\n",
    "result = find_largest(arr)\n",
    "\n",
    "# Display the result\n",
    "if result is None:\n",
    "    print(\"The array is empty.\")\n",
    "else:\n",
    "    print(\"The largest element in the array is:\", result)"
   ]
  },
  {
   "cell_type": "markdown",
   "id": "e2778a75",
   "metadata": {},
   "source": [
    "## 3) Write a Python Program for array rotation?"
   ]
  },
  {
   "cell_type": "code",
   "execution_count": 3,
   "id": "093de60c",
   "metadata": {},
   "outputs": [
    {
     "name": "stdout",
     "output_type": "stream",
     "text": [
      "Enter the array elements (space-separated): 2 78 33 9 45 11 23 25 \n",
      "Enter the number of rotations: 3\n",
      "Rotated array: [9, 45, 11, 23, 25, 2, 78, 33]\n"
     ]
    }
   ],
   "source": [
    "def rotate_array(arr, k):\n",
    "    n = len(arr)\n",
    "    # Normalize rotation count\n",
    "    k = k % n\n",
    "    # Rotate the array\n",
    "    rotated_arr = arr[k:] + arr[:k]\n",
    "    return rotated_arr\n",
    "\n",
    "# Input array elements\n",
    "arr = [int(x) for x in input(\"Enter the array elements (space-separated): \").split()]\n",
    "\n",
    "# Input number of rotations\n",
    "k = int(input(\"Enter the number of rotations: \"))\n",
    "\n",
    "# Rotate the array\n",
    "rotated_array = rotate_array(arr, k)\n",
    "\n",
    "# Display the rotated array\n",
    "print(\"Rotated array:\", rotated_array)"
   ]
  },
  {
   "cell_type": "markdown",
   "id": "18dcd6f5",
   "metadata": {},
   "source": [
    "## 4) Write a Python Program to Split the array and add the first part to the end?"
   ]
  },
  {
   "cell_type": "code",
   "execution_count": 4,
   "id": "4b5a83ff",
   "metadata": {},
   "outputs": [
    {
     "name": "stdout",
     "output_type": "stream",
     "text": [
      "Enter the array elements (space-separated): 23 76 33 23 57 59\n",
      "Enter the split index: 3\n",
      "New array: [23, 57, 59, 23, 76, 33]\n"
     ]
    }
   ],
   "source": [
    "def split_and_add(arr, k):\n",
    "    n = len(arr)\n",
    "    if k <= 0 or k >= n:\n",
    "        return arr\n",
    "    \n",
    "    # Split the array into two parts\n",
    "    first_part = arr[:k]\n",
    "    second_part = arr[k:]\n",
    "    \n",
    "    # Add the first part to the end\n",
    "    new_arr = second_part + first_part\n",
    "    \n",
    "    return new_arr\n",
    "\n",
    "# Input array elements\n",
    "arr = [int(x) for x in input(\"Enter the array elements (space-separated): \").split()]\n",
    "\n",
    "# Input split index\n",
    "k = int(input(\"Enter the split index: \"))\n",
    "\n",
    "# Split and add the array\n",
    "new_array = split_and_add(arr, k)\n",
    "\n",
    "# Display the new array\n",
    "print(\"New array:\", new_array)"
   ]
  },
  {
   "cell_type": "markdown",
   "id": "c7123ffb",
   "metadata": {},
   "source": [
    "## 5) Write a Python Program to check if given array is Monotonic?"
   ]
  },
  {
   "cell_type": "code",
   "execution_count": 5,
   "id": "e87c1d01",
   "metadata": {},
   "outputs": [
    {
     "name": "stdout",
     "output_type": "stream",
     "text": [
      "Enter the array elements (space-separated): 21 54 66 34 23 23 \n",
      "The array is not monotonic.\n"
     ]
    }
   ],
   "source": [
    "def is_monotonic(arr):\n",
    "    n = len(arr)\n",
    "    if n <= 2:\n",
    "        return True\n",
    "    \n",
    "    # Determine the direction of the array (increasing or decreasing)\n",
    "    direction = arr[1] - arr[0]\n",
    "    for i in range(2, n):\n",
    "        diff = arr[i] - arr[i-1]\n",
    "        if direction == 0:\n",
    "            direction = diff\n",
    "        if direction * diff < 0:\n",
    "            return False\n",
    "    \n",
    "    return True\n",
    "\n",
    "# Input array elements\n",
    "arr = [int(x) for x in input(\"Enter the array elements (space-separated): \").split()]\n",
    "\n",
    "# Check if the array is monotonic\n",
    "is_monotonic_array = is_monotonic(arr)\n",
    "\n",
    "# Display the result\n",
    "if is_monotonic_array:\n",
    "    print(\"The array is monotonic.\")\n",
    "else:\n",
    "    print(\"The array is not monotonic.\")"
   ]
  }
 ],
 "metadata": {
  "kernelspec": {
   "display_name": "Python 3 (ipykernel)",
   "language": "python",
   "name": "python3"
  },
  "language_info": {
   "codemirror_mode": {
    "name": "ipython",
    "version": 3
   },
   "file_extension": ".py",
   "mimetype": "text/x-python",
   "name": "python",
   "nbconvert_exporter": "python",
   "pygments_lexer": "ipython3",
   "version": "3.9.13"
  }
 },
 "nbformat": 4,
 "nbformat_minor": 5
}
